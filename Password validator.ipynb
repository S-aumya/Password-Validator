{
 "cells": [
  {
   "cell_type": "code",
   "execution_count": 1,
   "id": "73e9ad56",
   "metadata": {},
   "outputs": [
    {
     "name": "stdout",
     "output_type": "stream",
     "text": [
      "Enter your password: Saumya@05\n",
      "Valid Password\n"
     ]
    }
   ],
   "source": [
    "def isvalid(password):\n",
    "    digitcount=0\n",
    "    specialcount=0\n",
    "    uppercase=False\n",
    "    lowercase=False\n",
    "    whitespace=False\n",
    "    \n",
    "    if len(password)>=8:\n",
    "        for i in range(len(password)):\n",
    "            if password[i].isupper():\n",
    "                uppercase=True\n",
    "            elif password[i].islower():\n",
    "                lowercase=True\n",
    "            elif password[i].isdigit():\n",
    "                digitcount+=1\n",
    "            elif password[i]==\" \":\n",
    "                whitespace=True\n",
    "            else:\n",
    "                specialcount+=1\n",
    "                \n",
    "        if (uppercase and lowercase and not whitespace and digitcount>=2 and specialcount>=1):\n",
    "            return 'Valid Password'\n",
    "    \n",
    "        \n",
    "        elif not uppercase:\n",
    "            return 'Upper case letter not found'\n",
    "        elif not lowercase:\n",
    "            return 'Lower case letter needed'\n",
    "        elif whitespace:\n",
    "            return 'Whitespace not allowed'\n",
    "        elif digitcount<2:\n",
    "            return 'Atleast 2 digits are required.'\n",
    "        else:\n",
    "            return 'Atleast 1 special characters are required.'\n",
    "    else:\n",
    "        return 'please enter 8 length password.'\n",
    "    \n",
    "password=input(\"Enter your password: \")\n",
    "print(isvalid(password))    "
   ]
  },
  {
   "cell_type": "code",
   "execution_count": null,
   "id": "e2c17f8a",
   "metadata": {},
   "outputs": [],
   "source": []
  }
 ],
 "metadata": {
  "kernelspec": {
   "display_name": "Python 3 (ipykernel)",
   "language": "python",
   "name": "python3"
  },
  "language_info": {
   "codemirror_mode": {
    "name": "ipython",
    "version": 3
   },
   "file_extension": ".py",
   "mimetype": "text/x-python",
   "name": "python",
   "nbconvert_exporter": "python",
   "pygments_lexer": "ipython3",
   "version": "3.11.4"
  }
 },
 "nbformat": 4,
 "nbformat_minor": 5
}
